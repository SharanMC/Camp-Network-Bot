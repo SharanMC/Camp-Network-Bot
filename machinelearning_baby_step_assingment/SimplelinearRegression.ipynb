{
 "cells": [
  {
   "cell_type": "code",
   "execution_count": 3,
   "id": "9fe245ce",
   "metadata": {},
   "outputs": [],
   "source": [
    "#importing pandas library and assinging as pd\n",
    "import pandas as pd\n",
    " "
   ]
  },
  {
   "cell_type": "code",
   "execution_count": 5,
   "id": "4433b214",
   "metadata": {},
   "outputs": [
    {
     "name": "stdout",
     "output_type": "stream",
     "text": [
      "    s.no  years_of_experience  salaray\n",
      "0      1                    1    30000\n",
      "1      2                    2    35000\n",
      "2      3                    3    40000\n",
      "3      4                    4    45000\n",
      "4      5                    5    50000\n",
      "5      6                    6    55000\n",
      "6      7                    7    60000\n",
      "7      8                    8    65000\n",
      "8      9                    9    70000\n",
      "9     10                   10    75000\n",
      "10    11                   11    80000\n",
      "11    12                   12    85000\n",
      "12    13                   13    90000\n",
      "13    14                   14    95000\n",
      "14    15                   15   100000\n",
      "15    16                   16   105000\n"
     ]
    }
   ],
   "source": [
    "dataset=pd.read_excel(\"salary_data.xlsx\")#reading the excel file using pandas read funtion \n",
    "print(dataset)"
   ]
  },
  {
   "cell_type": "code",
   "execution_count": 6,
   "id": "01d4b3d7",
   "metadata": {},
   "outputs": [
    {
     "name": "stdout",
     "output_type": "stream",
     "text": [
      "    years_of_experience\n",
      "0                     1\n",
      "1                     2\n",
      "2                     3\n",
      "3                     4\n",
      "4                     5\n",
      "5                     6\n",
      "6                     7\n",
      "7                     8\n",
      "8                     9\n",
      "9                    10\n",
      "10                   11\n",
      "11                   12\n",
      "12                   13\n",
      "13                   14\n",
      "14                   15\n",
      "15                   16\n"
     ]
    }
   ],
   "source": [
    "#defining or creating or assinging independent variable from the dataset\n",
    "independent=dataset[[\"years_of_experience\"]]\n",
    "print(independent)"
   ]
  },
  {
   "cell_type": "code",
   "execution_count": 7,
   "id": "950fa318",
   "metadata": {},
   "outputs": [
    {
     "name": "stdout",
     "output_type": "stream",
     "text": [
      "    salaray\n",
      "0     30000\n",
      "1     35000\n",
      "2     40000\n",
      "3     45000\n",
      "4     50000\n",
      "5     55000\n",
      "6     60000\n",
      "7     65000\n",
      "8     70000\n",
      "9     75000\n",
      "10    80000\n",
      "11    85000\n",
      "12    90000\n",
      "13    95000\n",
      "14   100000\n",
      "15   105000\n"
     ]
    }
   ],
   "source": [
    "#defining or creating or assinging independent variable from the dataset\n",
    "dependent=dataset[[\"salaray\"]]\n",
    "print(dependent)"
   ]
  },
  {
   "cell_type": "code",
   "execution_count": 12,
   "id": "4a46596f",
   "metadata": {},
   "outputs": [
    {
     "name": "stdout",
     "output_type": "stream",
     "text": [
      "    years_of_experience\n",
      "4                     5\n",
      "2                     3\n",
      "14                   15\n",
      "10                   11\n",
      "7                     8\n",
      "15                   16\n",
      "11                   12\n",
      "3                     4\n",
      "0                     1\n",
      "5                     6\n",
      "12                   13     years_of_experience\n",
      "1                     2\n",
      "6                     7\n",
      "8                     9\n",
      "9                    10\n",
      "13                   14     salaray\n",
      "4     50000\n",
      "2     40000\n",
      "14   100000\n",
      "10    80000\n",
      "7     65000\n",
      "15   105000\n",
      "11    85000\n",
      "3     45000\n",
      "0     30000\n",
      "5     55000\n",
      "12    90000     salaray\n",
      "1     35000\n",
      "6     60000\n",
      "8     70000\n",
      "9     75000\n",
      "13    95000\n"
     ]
    }
   ],
   "source": [
    "#import the sklearn library and from sklearn importing specific class train_test_split which is used for training and testing of data set\n",
    "from sklearn.model_selection import train_test_split\n",
    "X_train, X_test, y_train, y_test = train_test_split(independent, dependent, test_size=0.30, random_state=0)\n",
    "print(X_train, X_test, y_train, y_test)"
   ]
  },
  {
   "cell_type": "code",
   "execution_count": 24,
   "id": "4df21b63",
   "metadata": {},
   "outputs": [
    {
     "name": "stdout",
     "output_type": "stream",
     "text": [
      "LinearRegression()\n"
     ]
    }
   ],
   "source": [
    "#import the sklearn library and from sklearn importing LinearRegression,it a class funtion specifically used for regression analysis\n",
    "from sklearn.linear_model import LinearRegression\n",
    "#creating object 'sharan'assing regression class to object 'sharan'\n",
    "sharan = LinearRegression()\n",
    "sharan.fit(X_train, y_train)#calling fit funtion in the regressor and substituting X_train, y_train\n",
    "print(sharan)"
   ]
  },
  {
   "cell_type": "code",
   "execution_count": 25,
   "id": "c0320fbe",
   "metadata": {},
   "outputs": [
    {
     "data": {
      "text/plain": [
       "array([[5000.]])"
      ]
     },
     "execution_count": 25,
     "metadata": {},
     "output_type": "execute_result"
    }
   ],
   "source": [
    "weight=regressor.coef_#sharan.coef_ is funtion regressor coefficent it is  assigned and called using weight variable\n",
    "weight"
   ]
  },
  {
   "cell_type": "code",
   "execution_count": 22,
   "id": "6b8dcd64",
   "metadata": {},
   "outputs": [
    {
     "data": {
      "text/plain": [
       "array([25000.])"
      ]
     },
     "execution_count": 22,
     "metadata": {},
     "output_type": "execute_result"
    }
   ],
   "source": [
    "bais=regressor.intercept_#regressor.intercept_is funtion regressor.intercept it is  assigned and called using bais variable\n",
    "bais"
   ]
  },
  {
   "cell_type": "code",
   "execution_count": 28,
   "id": "510b6599",
   "metadata": {},
   "outputs": [
    {
     "name": "stdout",
     "output_type": "stream",
     "text": [
      "R2 score: 1.0\n"
     ]
    },
    {
     "data": {
      "text/plain": [
       "1.0"
      ]
     },
     "execution_count": 28,
     "metadata": {},
     "output_type": "execute_result"
    }
   ],
   "source": [
    "#import the sklearn library and from sklearn importing r2_score\n",
    "from sklearn.metrics import r2_score \n",
    "#creating y_pred peredition of test set using the class funtion\n",
    "y_pred = regressor.predict(X_test)\n",
    "#testing the model is working performance using r2_score function \n",
    "r_score = r2_score(y_test, y_pred)\n",
    "print(\"R2 score:\", r_score)\n",
    "\n",
    "r_score"
   ]
  },
  {
   "cell_type": "code",
   "execution_count": 21,
   "id": "2fe551d1",
   "metadata": {},
   "outputs": [
    {
     "name": "stdout",
     "output_type": "stream",
     "text": [
      "enter years6\n",
      "Predicted Salary for  6  Years of Experience: [[55000.]]\n"
     ]
    },
    {
     "name": "stderr",
     "output_type": "stream",
     "text": [
      "C:\\Users\\sharanmc\\anaconda3\\Lib\\site-packages\\sklearn\\base.py:464: UserWarning: X does not have valid feature names, but LinearRegression was fitted with feature names\n",
      "  warnings.warn(\n"
     ]
    }
   ],
   "source": [
    "import pickle\n",
    "# Save the trained model to a file\n",
    "filename = \"finalized_model_Linear.sav\"\n",
    "pickle.dump(regressor, open(filename, 'wb'))\n",
    "\n",
    "# Load the saved model\n",
    "loaded_model = pickle.load(open(filename, 'rb'))\n",
    "\n",
    "# Make a prediction using the loaded model\n",
    "years=int(input(\"enter years\"))\n",
    "result = loaded_model.predict([[years]])\n",
    "print(\"Predicted Salary for \",years,\" Years of Experience:\", result)"
   ]
  },
  {
   "cell_type": "code",
   "execution_count": null,
   "id": "01f2b035",
   "metadata": {},
   "outputs": [],
   "source": []
  }
 ],
 "metadata": {
  "kernelspec": {
   "display_name": "Python 3 (ipykernel)",
   "language": "python",
   "name": "python3"
  },
  "language_info": {
   "codemirror_mode": {
    "name": "ipython",
    "version": 3
   },
   "file_extension": ".py",
   "mimetype": "text/x-python",
   "name": "python",
   "nbconvert_exporter": "python",
   "pygments_lexer": "ipython3",
   "version": "3.11.5"
  }
 },
 "nbformat": 4,
 "nbformat_minor": 5
}
